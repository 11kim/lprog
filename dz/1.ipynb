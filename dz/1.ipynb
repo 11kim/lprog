{
 "cells": [
  {
   "cell_type": "code",
   "execution_count": 6,
   "metadata": {},
   "outputs": [],
   "source": [
    "from nltk.corpus import stopwords\n",
    " \n",
    "sw = stopwords.words('russian')"
   ]
  },
  {
   "cell_type": "code",
   "execution_count": 7,
   "metadata": {},
   "outputs": [],
   "source": [
    "from pymystem3 import Mystem\n",
    "import re\n",
    "\n",
    "def norm(text):\n",
    "    m = Mystem()\n",
    "    text = text.lower()\n",
    "    text = re.sub('([^а-яА-ЯёЁ\\s\\n/]+)', '', text)\n",
    "    text = re.sub('([ \\t]+)', ' ', text)\n",
    "    text = m.analyze(text)\n",
    "    text2 = []\n",
    "    for word in text:\n",
    "        if (\"\\n\" in word['text']):\n",
    "            text2.append(\"\\n\")\n",
    "        if (' ' not in word['text']) and (\"\\n\" not in word['text']) and ('/' not in word['text']):\n",
    "            if word['analysis']:\n",
    "                lex = word['analysis'][0]['lex']\n",
    "                gr = word['analysis'][0]['gr'][0]\n",
    "                if lex not in sw:\n",
    "                    text2.append(lex + '_' + gr)       \n",
    "            \n",
    "    return(' '.join(text2))\n",
    "    "
   ]
  },
  {
   "cell_type": "code",
   "execution_count": 8,
   "metadata": {},
   "outputs": [],
   "source": [
    "import os\n",
    "\n",
    "def extract_text():\n",
    "    TEXT = ''\n",
    "    f_files = []\n",
    "    for root, dirs, files in os.walk('texts'):\n",
    "        f_files += [os.path.join(root, name) for name in files]\n",
    "    for file in f_files:\n",
    "        fin = open(file, 'r', encoding='utf-8')\n",
    "        text = fin.read()\n",
    "        text = norm(text)\n",
    "        TEXT += '\\n ' + text\n",
    "        fin.close()\n",
    "    return(TEXT)\n",
    "        \n",
    "TEXT = extract_text()\n"
   ]
  },
  {
   "cell_type": "code",
   "execution_count": 9,
   "metadata": {},
   "outputs": [],
   "source": [
    "TEXT2 = TEXT\n",
    "file = open('text.txt', 'w', encoding='utf-8')\n",
    "file.write(TEXT2)\n",
    "file.close()"
   ]
  },
  {
   "cell_type": "code",
   "execution_count": null,
   "metadata": {},
   "outputs": [],
   "source": [
    "###"
   ]
  },
  {
   "cell_type": "code",
   "execution_count": 10,
   "metadata": {},
   "outputs": [],
   "source": [
    "import gensim\n",
    "\n",
    "file = 'text.txt'\n",
    "data = gensim.models.word2vec.LineSentence(file)\n",
    "\n",
    "model = gensim.models.Word2Vec(data, size=300, window=5)\n",
    "\n",
    "model.init_sims(replace=True)\n",
    "model_path = \"model.bin\"\n",
    "model.wv.save_word2vec_format(model_path, binary=True)\n"
   ]
  },
  {
   "cell_type": "code",
   "execution_count": 15,
   "metadata": {},
   "outputs": [],
   "source": [
    "def bfs(q, used):\n",
    "    i = 0\n",
    "    pos = q[0][-1]\n",
    "    while (used[q[i]] < 3):\n",
    "        v = q[i]\n",
    "        friends = model.wv.most_similar(v, topn=6)\n",
    "        #print(friends)\n",
    "        for friend in friends:\n",
    "            if (friend[1] >= 0.5) and (friend[0][-1] == pos):\n",
    "                if not (friend[0] in G.nodes()):\n",
    "                    G.add_node(friend[0])\n",
    "                    G.add_edge(v, friend[0])\n",
    "                    q.append(friend[0])\n",
    "                    used[friend[0]] = used[v] + 1\n",
    "                elif (used[friend[0]] == used[v]):\n",
    "                    G.add_edge(v, friend[0])\n",
    "                else:\n",
    "                    break\n",
    "        i += 1\n",
    "    print('узлы', G.nodes())\n",
    "    print('рёбра', G.edges())\n",
    "        "
   ]
  },
  {
   "cell_type": "code",
   "execution_count": 16,
   "metadata": {},
   "outputs": [
    {
     "name": "stdout",
     "output_type": "stream",
     "text": [
      "узлы ['любовь_S', 'счастие_S', 'душа_S', 'воля_S', 'отношение_S', 'чувство_S', 'ум_S', 'сила_S', 'судьба_S', 'закон_S', 'право_S', 'желание_S', 'власть_S', 'дружба_S', 'характер_S', 'честь_S', 'долг_S', 'наука_S', 'истина_S']\n",
      "рёбра [('любовь_S', 'счастие_S'), ('любовь_S', 'душа_S'), ('любовь_S', 'воля_S'), ('любовь_S', 'отношение_S'), ('любовь_S', 'чувство_S'), ('счастие_S', 'душа_S'), ('счастие_S', 'воля_S'), ('душа_S', 'чувство_S'), ('душа_S', 'ум_S'), ('душа_S', 'сила_S'), ('воля_S', 'судьба_S'), ('воля_S', 'закон_S'), ('воля_S', 'право_S'), ('воля_S', 'желание_S'), ('воля_S', 'власть_S'), ('судьба_S', 'желание_S'), ('судьба_S', 'дружба_S'), ('судьба_S', 'характер_S'), ('закон_S', 'власть_S'), ('закон_S', 'право_S'), ('закон_S', 'честь_S'), ('закон_S', 'долг_S'), ('закон_S', 'наука_S'), ('желание_S', 'истина_S')]\n"
     ]
    }
   ],
   "source": [
    "import networkx as nx\n",
    "\n",
    "q = []\n",
    "G = nx.Graph()\n",
    "items = ['любовь_S']\n",
    "used = dict()\n",
    "for item in items:\n",
    "    G.add_node(item)\n",
    "    q.append(item)\n",
    "    used[item] = 0\n",
    "bfs(q, used)"
   ]
  },
  {
   "cell_type": "code",
   "execution_count": null,
   "metadata": {},
   "outputs": [],
   "source": []
  },
  {
   "cell_type": "code",
   "execution_count": 34,
   "metadata": {},
   "outputs": [],
   "source": [
    "def maxi(di):\n",
    "    res = 0\n",
    "    ans = -1\n",
    "    for i in di:\n",
    "        if di[i] > res:\n",
    "            res = di[i]\n",
    "            ans = i\n",
    "    return (ans, res)"
   ]
  },
  {
   "cell_type": "code",
   "execution_count": 35,
   "metadata": {},
   "outputs": [
    {
     "name": "stdout",
     "output_type": "stream",
     "text": [
      "Самые центральные узлы графа:\n",
      "degree centrality ('воля_S', 0.38888888888888884)\n",
      "betweenness centrality ('воля_S', 0.7026143790849674)\n",
      "closeness centrality ('воля_S', 0.5806451612903226)\n",
      "eigenvector_centrality ('воля_S', 0.5241307769178629)\n"
     ]
    }
   ],
   "source": [
    "print('Самые центральные узлы графа:')\n",
    "print('degree centrality', maxi(nx.degree_centrality(G)))\n",
    "print('betweenness centrality', maxi(nx.betweenness_centrality(G)))\n",
    "print('closeness centrality', maxi( nx.closeness_centrality(G)))\n",
    "print('eigenvector_centrality', maxi(nx.eigenvector_centrality(G)))"
   ]
  },
  {
   "cell_type": "code",
   "execution_count": 37,
   "metadata": {},
   "outputs": [
    {
     "name": "stdout",
     "output_type": "stream",
     "text": [
      "плотность графа: 0.14035087719298245\n",
      "диаметр: 5\n",
      "радиус: 3\n",
      "коэффициент кластеризации: 0.26265664160401003\n",
      "коэффициент ассортативности: -0.44288577154308617\n"
     ]
    }
   ],
   "source": [
    "print('плотность графа:', nx.density(G))\n",
    "print('диаметр:', nx.diameter(G))\n",
    "print('радиус:', nx.radius(G))\n",
    "print('коэффициент кластеризации:', nx.average_clustering(G))\n",
    "print('коэффициент ассортативности:', nx.degree_pearson_correlation_coefficient(G))"
   ]
  },
  {
   "cell_type": "code",
   "execution_count": 44,
   "metadata": {},
   "outputs": [
    {
     "name": "stdout",
     "output_type": "stream",
     "text": [
      "чувство_S ум_S сила_S счастие_S душа_S отношение_S любовь_S\n",
      "право_S долг_S воля_S власть_S наука_S честь_S закон_S\n",
      "желание_S дружба_S судьба_S истина_S характер_S\n"
     ]
    }
   ],
   "source": [
    "from networkx.algorithms import community\n",
    "\n",
    "com = community.greedy_modularity_communities(G)\n",
    "#print(com)\n",
    "for i in com:\n",
    "    print(' '.join(list(i)))"
   ]
  },
  {
   "cell_type": "code",
   "execution_count": null,
   "metadata": {},
   "outputs": [],
   "source": [
    "#интерпретация: \n",
    "#2ая группа(право, долг, воля ...) — социальные понятия. Касающиеся, прежде всего, регулирования отношений в обществе. \n",
    "#1ая и 3я группы сходны, но в первой более абстрактные понятия, а в третьей — относящиеся, скорее, к одному человеку"
   ]
  },
  {
   "cell_type": "code",
   "execution_count": 45,
   "metadata": {},
   "outputs": [
    {
     "name": "stderr",
     "output_type": "stream",
     "text": [
      "/home/annie/.local/lib/python3.6/site-packages/networkx/drawing/nx_pylab.py:579: MatplotlibDeprecationWarning: \n",
      "The iterable function was deprecated in Matplotlib 3.1 and will be removed in 3.3. Use np.iterable instead.\n",
      "  if not cb.iterable(width):\n"
     ]
    },
    {
     "data": {
      "image/png": "[encoded data removed]",
      "text/plain": [
       "<Figure size 432x288 with 1 Axes>"
      ]
     },
     "metadata": {},
     "output_type": "display_data"
    }
   ],
   "source": [
    "import networkx as nx\n",
    "import matplotlib.pyplot as plt\n",
    "from matplotlib import style\n",
    "style.use('ggplot') \n",
    "\n",
    "pos=nx.spring_layout(G)\n",
    "\n",
    "nx.draw_networkx_nodes(G, pos, node_color='red', node_size=10) \n",
    "nx.draw_networkx_edges(G, pos, edge_color='yellow')\n",
    "nx.draw_networkx_labels(G, pos, font_size=20, font_family='Arial')\n",
    "plt.axis('off') \n",
    "plt.show()"
   ]
  }
 ],
 "metadata": {
  "kernelspec": {
   "display_name": "Python 3",
   "language": "python",
   "name": "python3"
  },
  "language_info": {
   "codemirror_mode": {
    "name": "ipython",
    "version": 3
   },
   "file_extension": ".py",
   "mimetype": "text/x-python",
   "name": "python",
   "nbconvert_exporter": "python",
   "pygments_lexer": "ipython3",
   "version": "3.6.8"
  }
 },
 "nbformat": 4,
 "nbformat_minor": 2
}

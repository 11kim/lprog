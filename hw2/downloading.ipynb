{
 "cells": [
  {
   "cell_type": "code",
   "execution_count": 286,
   "metadata": {
    "collapsed": true
   },
   "outputs": [],
   "source": [
    "def DownloadReps(user_name, page):\n",
    "    #url = 'https://api.github.com/users/%s/repos?page=%d&per_page=100&access_token=%s' % (user_name, page, token)\n",
    "    url = 'https://api.github.com/users/%s/repos?page=%d&per_page=100' % (user_name, page) #вставить свой токен!\n",
    "    response = requests.get(url)\n",
    "    data = json.loads(response.text)  \n",
    "    return data\n"
   ]
  },
  {
   "cell_type": "code",
   "execution_count": 298,
   "metadata": {
    "collapsed": true
   },
   "outputs": [],
   "source": [
    "def DownloadFolls(user_name):\n",
    "    token = '8f64f0e6e3b8024ae8a27d9161834ac69769bff7'\n",
    "    url = 'https://api.github.com/users/%s?access_token=%s' % (user_name, token)\n",
    "    response = requests.get(url)\n",
    "    data = json.loads(response.text)  \n",
    "    return data['followers']"
   ]
  },
  {
   "cell_type": "code",
   "execution_count": 299,
   "metadata": {
    "collapsed": true
   },
   "outputs": [],
   "source": [
    "def Form(name, num):\n",
    "    if (num % 10) == 1 and num != 11:\n",
    "        return name + 'и'\n",
    "    return name + 'ях'\n",
    "    "
   ]
  },
  {
   "cell_type": "code",
   "execution_count": 300,
   "metadata": {
    "collapsed": true
   },
   "outputs": [],
   "source": [
    "def nice_print(key, mean):\n",
    "    out = key + ':'\n",
    "    out = out.ljust(45, ' ')\n",
    "    out = '  ' + out\n",
    "    print(out, mean)"
   ]
  },
  {
   "cell_type": "code",
   "execution_count": 301,
   "metadata": {
    "collapsed": true
   },
   "outputs": [],
   "source": [
    "def UserData(user_name):\n",
    "    n = 1\n",
    "    langs = {}\n",
    "    flag = False\n",
    "    while True:\n",
    "        data = DownloadReps(user_name, n)\n",
    "        if len(data) == 0:\n",
    "            break\n",
    "        if not flag:\n",
    "            print('Вот список его репозиториев:')\n",
    "            flag = True\n",
    "        for rep in data:\n",
    "            nice_print(rep['name'], rep['description'])\n",
    "            lang = rep['language']\n",
    "            if lang in langs:\n",
    "                langs[lang] += 1\n",
    "            else:\n",
    "                langs[lang] = 1\n",
    "        n += 1\n",
    "        \n",
    "    if not flag:\n",
    "        print('У этого пользователя нет репозиториев')\n",
    "        return\n",
    "    \n",
    "    langs.pop(None)\n",
    "    print()\n",
    "    print('Пользователь', user_name, 'пишет на', ', '.join([s for s in langs]))\n",
    "    s = ', '.join(['язык %s используется в %s '%(lang, langs[lang]) + Form('репозитори', langs[lang]) for lang in langs])\n",
    "    s = s[0].upper() + s[1:]\n",
    "    print(s)\n",
    "    \n",
    "\n",
    "\n",
    "    "
   ]
  },
  {
   "cell_type": "code",
   "execution_count": 302,
   "metadata": {
    "collapsed": true
   },
   "outputs": [],
   "source": [
    "def UserInfo(user_name):\n",
    "    n = 1\n",
    "    langs = {}\n",
    "    flag = False\n",
    "    count_reps = 0\n",
    "    while True:\n",
    "        data = DownloadReps(user_name, n)\n",
    "        if len(data) == 0:\n",
    "            break\n",
    "        if not flag:\n",
    "            flag = True\n",
    "        for rep in data:\n",
    "            lang = rep['language']\n",
    "            if lang in langs:\n",
    "                langs[lang] += 1\n",
    "            else:\n",
    "                langs[lang] = 1\n",
    "        count_reps += len(data)\n",
    "        n += 1\n",
    "    if not flag:\n",
    "        return (0, ())\n",
    "    return (count_reps, langs)\n",
    "    "
   ]
  },
  {
   "cell_type": "code",
   "execution_count": 315,
   "metadata": {
    "collapsed": true
   },
   "outputs": [],
   "source": [
    "def CommInfo(names_list):\n",
    "    max_reps = ('', 0)\n",
    "    max_folls = ('', 0)\n",
    "    pop_lang = ('', 0)\n",
    "    langs = {}\n",
    "    for user_name in names_list:\n",
    "        count_folls = DownloadFolls(user_name)\n",
    "        count_reps, user_langs = UserInfo(user_name)\n",
    "        for lang in user_langs:\n",
    "            if lang in langs:\n",
    "                langs[lang] += user_langs[lang]\n",
    "            else:\n",
    "                langs[lang] = user_langs[lang]\n",
    "        if count_folls > max_folls[1]:\n",
    "            max_folls = (user_name, count_folls)\n",
    "        if count_reps > max_reps[1]:\n",
    "            max_reps = (user_name, count_reps)\n",
    "    for lang in langs:\n",
    "        if langs[lang] > pop_lang[1]:\n",
    "            pop_lang = (lang, langs[lang])\n",
    "    print()\n",
    "    print('Из списка', ', '.join([user_name for user_name in names_list]), 'больше всего репозиториев у пользователя', max_reps[0])\n",
    "    print('Самый популярный язык среди пользователей из списка', ', '.join([user_name for user_name in names_list]), '--', pop_lang[0])\n",
    "    print('Больше всего подписчиков у пользователя', max_folls[0])\n",
    "        "
   ]
  },
  {
   "cell_type": "code",
   "execution_count": 316,
   "metadata": {
    "collapsed": true
   },
   "outputs": [],
   "source": [
    "def main(names_list):\n",
    "    flag = False\n",
    "    print('Введите имя Github пользователя')\n",
    "    while not flag:\n",
    "        user_name = input()\n",
    "        if not user_name in names_list:\n",
    "            print('Вы ввели что-то не то. Повторите попытку ввода.')\n",
    "        else:\n",
    "            flag = True\n",
    "    print('Вы выбрали пользователя', user_name)\n",
    "    UserData(user_name)\n",
    "    CommInfo(names_list)"
   ]
  },
  {
   "cell_type": "code",
   "execution_count": 317,
   "metadata": {},
   "outputs": [
    {
     "name": "stdout",
     "output_type": "stream",
     "text": [
      "Введите имя Github пользователя\n",
      "lizaku\n",
      "Вы выбрали пользователя lizaku\n",
      "Вот список его репозиториев:\n",
      "  alignment:                                    Repository for storing the project \"Automatic alignment of dictionaries for closely related languages\"\n",
      "  CL_spellchecker:                              The spellchecker project for the CL course\n",
      "  disamb_RNC:                                   Disambiguation for Russian\n",
      "  dsm_genres:                                   Visualizer for genres based on neural network language models\n",
      "  frame-parsing:                                Semantic role labeling for Russian\n",
      "  Geo_entities:                                 Extracting geo entities\n",
      "  MorphoAnn:                                    Morphological annotation for REALEC\n",
      "  opinion2015:                                  Mail.Ru project on Opinion Mining in news\n",
      "  Programming-and-computer-instruments:         Репоззиторий для курса \"Программирование и компьютерные инструменты лингвистических исследований\" в 2016-2017 уч. году.\n",
      "  programming_hw:                               repo for hosting my homework assignments on programming, first semester of 2015-2016\n",
      "  realec-exercises:                             Automatic creation of exercises for REALEC\n",
      "  realec-search:                                Search for the REALEC corpus\n",
      "  seq2seq:                                      Kursovaya\n",
      "  seq2seq_chatbot:                              Sequence-to-Sequence chatbot using tensorflow\n",
      "  synonyms:                                     Для НУГа про синонимы\n",
      "  varia:                                        None\n",
      "  verbal-aspect:                                Working files for my thesis\n",
      "\n",
      "Пользователь lizaku пишет на Python, HTML, Jupyter Notebook\n",
      "Язык Python используется в 12 репозиториях, язык HTML используется в 2 репозиториях, язык Jupyter Notebook используется в 2 репозиториях\n",
      "\n",
      "Из списка elmiram, maryszmary, lizaku, nevmenandr, ancatmara, roctbb, akutuzov, agricolamz, lehkost, kylepjohnson, mikekestemont, demidovakatya, shwars, JelteF, timgraham, arogozhnikov, jasny, bcongdon, whyisjake, gvanrossum больше всего репозиториев у пользователя JelteF\n",
      "Самый популярный язык среди пользователей из списка elmiram, maryszmary, lizaku, nevmenandr, ancatmara, roctbb, akutuzov, agricolamz, lehkost, kylepjohnson, mikekestemont, demidovakatya, shwars, JelteF, timgraham, arogozhnikov, jasny, bcongdon, whyisjake, gvanrossum -- Python\n",
      "Больше всего подписчиков у пользователя gvanrossum\n"
     ]
    }
   ],
   "source": [
    "import requests\n",
    "import json\n",
    "\n",
    "NAMES_LIST = ['elmiram', 'maryszmary', 'lizaku', 'nevmenandr', 'ancatmara', 'roctbb', 'akutuzov', 'agricolamz', 'lehkost', 'kylepjohnson', 'mikekestemont', 'demidovakatya', 'shwars', 'JelteF', 'timgraham', 'arogozhnikov', 'jasny', 'bcongdon', 'whyisjake', 'gvanrossum']\n",
    "main(NAMES_LIST)"
   ]
  },
  {
   "cell_type": "code",
   "execution_count": null,
   "metadata": {
    "collapsed": true
   },
   "outputs": [],
   "source": []
  }
 ],
 "metadata": {
  "kernelspec": {
   "display_name": "Python 3",
   "language": "python",
   "name": "python3"
  },
  "language_info": {
   "codemirror_mode": {
    "name": "ipython",
    "version": 3
   },
   "file_extension": ".py",
   "mimetype": "text/x-python",
   "name": "python",
   "nbconvert_exporter": "python",
   "pygments_lexer": "ipython3",
   "version": "3.6.3"
  }
 },
 "nbformat": 4,
 "nbformat_minor": 2
}

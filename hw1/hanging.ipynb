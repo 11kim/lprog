{
 "cells": [
  {
   "cell_type": "code",
   "execution_count": 1,
   "metadata": {},
   "outputs": [],
   "source": [
    "def draw_pict(n):\n",
    "    picts = [' _____\\n Lo  |\\n /|\\\\ |\\n / \\\\ |\\n', ' _____\\n Lo  |\\n /|\\\\ |\\n /   |\\n', ' _____\\n Lo  |\\n /|\\\\ |\\n     |\\n', ' _____\\n Lo  |\\n /|  |\\n     |\\n', ' _____\\n Lo  |\\n /   |\\n     |\\n', ' _____\\n Lo  |\\n     |\\n     |\\n', ' _____\\n L   |\\n     |\\n     |\\n']\n",
    "    win = '\\n \\\\o/  \\n  |\\n / \\\\ \\n' \n",
    "    if n == -1:\n",
    "        print(win)\n",
    "        return\n",
    "    print(picts[n])\n"
   ]
  },
  {
   "cell_type": "code",
   "execution_count": 2,
   "metadata": {},
   "outputs": [],
   "source": [
    "def choose_word(theme_name):\n",
    "    file = open(theme_name, 'r', encoding='utf-8')\n",
    "    words = [word.rstrip() for word in file.readlines()]\n",
    "    word = random.choice(words)\n",
    "    file.close()\n",
    "    return word\n",
    "\n"
   ]
  },
  {
   "cell_type": "code",
   "execution_count": 3,
   "metadata": {},
   "outputs": [],
   "source": [
    "def if_letter(symb):\n",
    "    if len(symb) == 1 and ('а' <= symb <= 'я') or symb == 'ё':\n",
    "        return symb\n",
    "    if len(symb) > 1:\n",
    "        print('Введено больше 1 символа')\n",
    "    elif symb.isalpha():\n",
    "        print('Смените раскладку')\n",
    "    else:\n",
    "        print('Символ не является буквой')\n",
    "    return False"
   ]
  },
  {
   "cell_type": "code",
   "execution_count": 4,
   "metadata": {},
   "outputs": [],
   "source": [
    "def if_used(letter, used_letters):\n",
    "    if letter in used_letters:\n",
    "        print('Про эту букву вы уже спрашивали. Попробуйте другую.')\n",
    "        return False\n",
    "    return letter"
   ]
  },
  {
   "cell_type": "code",
   "execution_count": 5,
   "metadata": {},
   "outputs": [],
   "source": [
    "def update_now(word, now, letter): #update status(found or not) of word's letters\n",
    "    for i in range(len(word)):\n",
    "        if word[i] == letter:\n",
    "            now[i] = True\n",
    "    return now"
   ]
  },
  {
   "cell_type": "code",
   "execution_count": 6,
   "metadata": {},
   "outputs": [],
   "source": [
    "def choose_wordform(n):\n",
    "    word = 'попыт'\n",
    "    n = n % 100\n",
    "    if 10 < n < 20:\n",
    "        return word + 'ок'\n",
    "    n = n % 10\n",
    "    if n == 1:\n",
    "        return word + 'ка'\n",
    "    if 2 <= n <= 4:\n",
    "        return word + 'ки'\n",
    "    return word + 'ок'"
   ]
  },
  {
   "cell_type": "code",
   "execution_count": 7,
   "metadata": {},
   "outputs": [],
   "source": [
    "def play(word, now, n, used_letters):\n",
    "    if n == 0:\n",
    "        print('Попытки кончились! Вы проиграли! Попробуйте снова, может, вам повезёт.')\n",
    "        print('Правильный ответ:', word.upper())\n",
    "        return \n",
    "    if now == [True] * len(word):\n",
    "        print('Да, это', word.upper())\n",
    "        print('На этот раз вы выиграли')\n",
    "        draw_pict(-1)\n",
    "        return\n",
    "    print('У вас есть ' + str(n) + ' ' + choose_wordform(n) + ', чтобы угадать слово из ' + str(len(word)) + ' букв') \n",
    "    print(' '.join((word[i] * now[i] + '_' * (not now[i])) for i in range(len(word))))\n",
    "    letter = 0\n",
    "    while not letter:\n",
    "        print('Введите предполагаемую букву')\n",
    "        letter = if_letter(input().lower())\n",
    "        letter = if_used(letter, used_letters)            \n",
    "    used_letters.add(letter)\n",
    "    if letter in word:\n",
    "        now = update_now(word, now, letter)\n",
    "        play(word, now, n, used_letters)\n",
    "    else:\n",
    "        print('Нет!') \n",
    "        draw_pict(n - 1)\n",
    "        play(word, now, n - 1, used_letters)\n",
    "    \n"
   ]
  },
  {
   "cell_type": "code",
   "execution_count": 8,
   "metadata": {},
   "outputs": [],
   "source": [
    "def make_now(word): #create list of status(found or not) for word's letters\n",
    "    now = [False] * len(word)\n",
    "    if '-' in word:\n",
    "        now[word.index('-')] = True\n",
    "    return now"
   ]
  },
  {
   "cell_type": "code",
   "execution_count": null,
   "metadata": {},
   "outputs": [],
   "source": []
  },
  {
   "cell_type": "code",
   "execution_count": null,
   "metadata": {
    "scrolled": false
   },
   "outputs": [
    {
     "name": "stdout",
     "output_type": "stream",
     "text": [
      "Выберите тему\n",
      "мебель\n",
      "вкусняшки\n",
      "нечисть\n",
      "мебель\n",
      "У вас есть 7 попыток, чтобы угадать слово из 9 букв\n",
      "_ _ _ _ _ _ _ _ _\n",
      "Введите предполагаемую букву\n",
      "о\n",
      "Нет!\n",
      " _____\n",
      " L   |\n",
      "     |\n",
      "     |\n",
      "\n",
      "У вас есть 6 попыток, чтобы угадать слово из 9 букв\n",
      "_ _ _ _ _ _ _ _ _\n",
      "Введите предполагаемую букву\n",
      "р\n",
      "У вас есть 6 попыток, чтобы угадать слово из 9 букв\n",
      "_ _ _ _ р _ _ _ _\n",
      "Введите предполагаемую букву\n",
      "а\n",
      "У вас есть 6 попыток, чтобы угадать слово из 9 букв\n",
      "_ а _ _ р _ _ _ а\n",
      "Введите предполагаемую букву\n",
      "е\n",
      "У вас есть 6 попыток, чтобы угадать слово из 9 букв\n",
      "_ а _ _ р е _ _ а\n",
      "Введите предполагаемую букву\n",
      "с\n",
      "Нет!\n",
      " _____\n",
      " Lo  |\n",
      "     |\n",
      "     |\n",
      "\n",
      "У вас есть 5 попыток, чтобы угадать слово из 9 букв\n",
      "_ а _ _ р е _ _ а\n",
      "Введите предполагаемую букву\n",
      "р\n",
      "Про эту букву вы уже спрашивали. Попробуйте другую.\n",
      "Введите предполагаемую букву\n",
      "о\n",
      "Про эту букву вы уже спрашивали. Попробуйте другую.\n",
      "Введите предполагаемую букву\n",
      "н\n",
      "Нет!\n",
      " _____\n",
      " Lo  |\n",
      " /   |\n",
      "     |\n",
      "\n",
      "У вас есть 4 попытки, чтобы угадать слово из 9 букв\n",
      "_ а _ _ р е _ _ а\n",
      "Введите предполагаемую букву\n",
      "т\n",
      "У вас есть 4 попытки, чтобы угадать слово из 9 букв\n",
      "т а _ _ р е т _ а\n",
      "Введите предполагаемую букву\n",
      "б\n",
      "У вас есть 4 попытки, чтобы угадать слово из 9 букв\n",
      "т а б _ р е т _ а\n",
      "Введите предполагаемую букву\n",
      "к\n",
      "У вас есть 4 попытки, чтобы угадать слово из 9 букв\n",
      "т а б _ р е т к а\n",
      "Введите предполагаемую букву\n",
      "у\n",
      "Да, это ТАБУРЕТКА\n",
      "На этот раз вы выиграли\n",
      "\n",
      " \\o/  \n",
      "  |\n",
      " / \\ \n",
      "\n",
      "Нажмите Enter, чтобы продолжить\n",
      "Нажмите любую клавишу, чтобы выйти из игры\n",
      "\n",
      "Выберите тему\n",
      "мебель\n",
      "вкусняшки\n",
      "нечисть\n"
     ]
    }
   ],
   "source": [
    "import random\n",
    "\n",
    "\n",
    "N = 7\n",
    "flag = True\n",
    "themes = {'мебель':'мебель.txt', 'вкусняшки':'вкусняшки.txt', 'нечисть':'нечисть.txt'}\n",
    "while flag:    \n",
    "    print('Выберите тему')\n",
    "    for i in themes.keys():\n",
    "        print(i)\n",
    "    theme = False\n",
    "    while not theme:\n",
    "        inp = input().lower()\n",
    "        if inp in themes:\n",
    "            theme = themes[inp]\n",
    "        else:\n",
    "            print('Вы неправильно ввели название темы. Попробуйте ещё раз.')\n",
    "    word = choose_word(theme)\n",
    "    play(word, make_now(word), N, set())\n",
    "    print('Нажмите Enter, чтобы продолжить')\n",
    "    print('Нажмите любую клавишу, чтобы выйти из игры')\n",
    "    flag = not(input())\n",
    "    \n",
    "        "
   ]
  },
  {
   "cell_type": "code",
   "execution_count": null,
   "metadata": {},
   "outputs": [],
   "source": []
  }
 ],
 "metadata": {
  "kernelspec": {
   "display_name": "Python 3",
   "language": "python",
   "name": "python3"
  },
  "language_info": {
   "codemirror_mode": {
    "name": "ipython",
    "version": 3
   },
   "file_extension": ".py",
   "mimetype": "text/x-python",
   "name": "python",
   "nbconvert_exporter": "python",
   "pygments_lexer": "ipython3",
   "version": "3.5.2"
  }
 },
 "nbformat": 4,
 "nbformat_minor": 2
}
